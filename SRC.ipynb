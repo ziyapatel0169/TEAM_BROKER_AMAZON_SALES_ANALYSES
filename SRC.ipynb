{
 "cells": [
  {
   "cell_type": "markdown",
   "id": "18a0ae07-fec9-4456-8523-86ec6c7e1cb1",
   "metadata": {},
   "source": [
    "#### Importing Libraries"
   ]
  },
  {
   "cell_type": "code",
   "execution_count": 1,
   "id": "93844a14-6c34-43d1-aa98-049d8e86687b",
   "metadata": {},
   "outputs": [],
   "source": [
    "import pandas as pd\n",
    "import matplotlib.pyplot as plt\n",
    "import seaborn as sns\n",
    "from sklearn.metrics import confusion_matrix, ConfusionMatrixDisplay"
   ]
  },
  {
   "cell_type": "markdown",
   "id": "7b791159-c6c6-450e-b25d-d23488f8269a",
   "metadata": {},
   "source": [
    "#### Exploring and Understanding the Data"
   ]
  },
  {
   "cell_type": "code",
   "execution_count": 2,
   "id": "cb88c3cf-72d9-4feb-9b99-6b4090c957dc",
   "metadata": {},
   "outputs": [],
   "source": [
    "# Load the data\n",
    "dataframe_Amazon_Sales_data = pd.read_csv(\"Amazon Sales data.csv\")"
   ]
  },
  {
   "cell_type": "code",
   "execution_count": null,
   "id": "4cf7f7e8-6f93-4acb-8b20-6800e6667eaa",
   "metadata": {},
   "outputs": [],
   "source": [
    "# Display the first few rows of the data\n",
    "dataframe_Amazon_Sales_data.head()"
   ]
  },
  {
   "cell_type": "code",
   "execution_count": 4,
   "id": "3523fbf1-e2b0-4dc5-82ca-4b7c9b07223e",
   "metadata": {},
   "outputs": [
    {
     "data": {
      "text/plain": [
       "(100, 14)"
      ]
     },
     "execution_count": 4,
     "metadata": {},
     "output_type": "execute_result"
    }
   ],
   "source": [
    "# Shape of the dataset\n",
    "\n",
    "dataframe_Amazon_Sales_data.shape\n",
    "\n",
    "# Here, the dataframe_Amazon_Sales_data dataset contains 100 rows and 14 columns."
   ]
  },
  {
   "cell_type": "code",
   "execution_count": 5,
   "id": "aa33a027-433c-4474-b41c-fc0c696512a3",
   "metadata": {},
   "outputs": [
    {
     "data": {
      "text/plain": [
       "(Region            0\n",
       " Country           0\n",
       " Item Type         0\n",
       " Sales Channel     0\n",
       " Order Priority    0\n",
       " Order Date        0\n",
       " Order ID          0\n",
       " Ship Date         0\n",
       " Units Sold        0\n",
       " Unit Price        0\n",
       " Unit Cost         0\n",
       " Total Revenue     0\n",
       " Total Cost        0\n",
       " Total Profit      0\n",
       " dtype: int64,\n",
       " Region             object\n",
       " Country            object\n",
       " Item Type          object\n",
       " Sales Channel      object\n",
       " Order Priority     object\n",
       " Order Date         object\n",
       " Order ID            int64\n",
       " Ship Date          object\n",
       " Units Sold          int64\n",
       " Unit Price        float64\n",
       " Unit Cost         float64\n",
       " Total Revenue     float64\n",
       " Total Cost        float64\n",
       " Total Profit      float64\n",
       " dtype: object)"
      ]
     },
     "execution_count": 5,
     "metadata": {},
     "output_type": "execute_result"
    }
   ],
   "source": [
    "# Check for missing values\n",
    "missing_values = dataframe_Amazon_Sales_data.isnull().sum()\n",
    "\n",
    "# Display data types\n",
    "data_types = dataframe_Amazon_Sales_data.dtypes\n",
    "\n",
    "missing_values, data_types\n"
   ]
  },
  {
   "cell_type": "markdown",
   "id": "859f91c1-429d-4391-a4dd-d32992fde8f4",
   "metadata": {},
   "source": [
    "#### Sales by Product Category"
   ]
  },
  {
   "cell_type": "code",
   "execution_count": null,
   "id": "3945a944-dc77-4ff0-bbb3-fd7a361e169b",
   "metadata": {},
   "outputs": [],
   "source": [
    "# Sales by Product Category\n",
    "sales_by_category = dataframe_Amazon_Sales_data.groupby('Item Type')['Total Revenue'].sum().reset_index()\n",
    "\n",
    "# Plotting Sales by Product Category\n",
    "plt.figure(figsize=(14, 8))\n",
    "sns.barplot(data=sales_by_category, x='Total Revenue', y='Item Type', palette='plasma')\n",
    "plt.title('Sales by Product Category')\n",
    "plt.xlabel('Total Revenue')\n",
    "plt.ylabel('Category')\n",
    "plt.show()"
   ]
  },
  {
   "cell_type": "markdown",
   "id": "165f3941-ba18-44ec-a169-db30de0c37f9",
   "metadata": {},
   "source": [
    "#### Advanced Feature Engineering with Visualizations"
   ]
  },
  {
   "cell_type": "code",
   "execution_count": null,
   "id": "6feae3e3-a342-4bf0-a5d7-c72f3741e1af",
   "metadata": {},
   "outputs": [],
   "source": [
    "# Calculate the 7-day and 30-day moving averages\n",
    "dataframe_Amazon_Sales_data['MA_7'] = dataframe_Amazon_Sales_data['Total Revenue'].rolling(window=7).mean()\n",
    "dataframe_Amazon_Sales_data['MA_30'] = dataframe_Amazon_Sales_data['Total Revenue'].rolling(window=30).mean()\n",
    "\n",
    "# Calculate the growth rate if it doesn't exist\n",
    "# Assuming 'Growth Rate' is the percentage change in 'Total Revenue'\n",
    "dataframe_Amazon_Sales_data['Growth Rate'] = dataframe_Amazon_Sales_data['Total Revenue'].pct_change() * 100\n",
    "\n",
    "# Create subplots\n",
    "fig, ax = plt.subplots(2, 1, figsize=(14, 10))\n",
    "\n",
    "# Plot the original total revenue and moving averages\n",
    "dataframe_Amazon_Sales_data[['Total Revenue', 'MA_7', 'MA_30']].plot(ax=ax[0])\n",
    "ax[0].set_title('Total Revenue and Moving Averages')\n",
    "ax[0].set_ylabel('Total Revenue')\n",
    "ax[0].set_xlabel('Date')\n",
    "\n",
    "# Plot the growth rate\n",
    "dataframe_Amazon_Sales_data['Growth Rate'].plot(ax=ax[1])\n",
    "ax[1].set_title('Growth Rate of Total Revenue')\n",
    "ax[1].set_ylabel('Growth Rate')\n",
    "ax[1].set_xlabel('Date')\n",
    "\n",
    "plt.tight_layout()\n",
    "plt.show()"
   ]
  },
  {
   "cell_type": "markdown",
   "id": "ad79c076-2115-41a4-b1c4-1a18a3dee1bc",
   "metadata": {},
   "source": [
    "#### Anomaly Detection with Visualizations"
   ]
  },
  {
   "cell_type": "code",
   "execution_count": null,
   "id": "13908808-3f09-4f3c-bebb-665381c59680",
   "metadata": {},
   "outputs": [],
   "source": [
    "from sklearn.ensemble import IsolationForest\n",
    "\n",
    "# Select relevant features for anomaly detection\n",
    "anomaly_data = dataframe_Amazon_Sales_data[['Units Sold', 'Unit Price', 'Total Revenue']].dropna()\n",
    "\n",
    "# Fit the Isolation Forest model\n",
    "iso_forest = IsolationForest(contamination=0.01, random_state=42)\n",
    "anomaly_data['Anomaly'] = iso_forest.fit_predict(anomaly_data)\n",
    "\n",
    "# Plot the anomalies\n",
    "plt.figure(figsize=(14, 7))\n",
    "plt.scatter(anomaly_data.index, anomaly_data['Total Revenue'], c=anomaly_data['Anomaly'], cmap='coolwarm', alpha=0.5)\n",
    "plt.title('Anomaly Detection in Total Revenue')\n",
    "plt.xlabel('Date')\n",
    "plt.ylabel('Total Revenue')\n",
    "plt.show()"
   ]
  },
  {
   "cell_type": "markdown",
   "id": "a0bfc260-0597-4696-9bcd-e07b6965da33",
   "metadata": {},
   "source": [
    "#### Clustering Analysis with Visualizations"
   ]
  },
  {
   "cell_type": "code",
   "execution_count": null,
   "id": "d61a141d-d9ce-4526-9e59-202ba1d5d3fc",
   "metadata": {},
   "outputs": [],
   "source": [
    "from sklearn.cluster import KMeans\n",
    "from sklearn.preprocessing import StandardScaler\n",
    "\n",
    "# Select relevant features for clustering\n",
    "clustering_data = dataframe_Amazon_Sales_data[['Units Sold', 'Unit Price', 'Total Revenue']].dropna()\n",
    "\n",
    "# Standardize the features\n",
    "scaler = StandardScaler()\n",
    "clustering_data_scaled = scaler.fit_transform(clustering_data)\n",
    "\n",
    "# Fit the K-means model\n",
    "kmeans = KMeans(n_clusters=3, random_state=42)\n",
    "kmeans.fit(clustering_data_scaled)\n",
    "\n",
    "# Add the cluster labels to the original dataframe\n",
    "dataframe_Amazon_Sales_data.loc[clustering_data.index, 'Cluster'] = kmeans.labels_\n",
    "\n",
    "# Plot the clusters\n",
    "plt.figure(figsize=(14, 7))\n",
    "plt.scatter(clustering_data_scaled[:, 0], clustering_data_scaled[:, 1], c=kmeans.labels_, cmap='viridis', alpha=0.5)\n",
    "plt.title('Clusters of Products')\n",
    "plt.xlabel('Standardized Units Sold')\n",
    "plt.ylabel('Standardized Unit Price')\n",
    "plt.show()"
   ]
  },
  {
   "cell_type": "markdown",
   "id": "e3a295b8-4903-4168-8034-d60273e40e32",
   "metadata": {},
   "source": [
    "#### Predictive Modeling with Visualizations"
   ]
  },
  {
   "cell_type": "code",
   "execution_count": null,
   "id": "7add5c18-4004-4de3-8a78-7729a4b3a45a",
   "metadata": {},
   "outputs": [],
   "source": [
    "from xgboost import XGBRegressor\n",
    "from sklearn.model_selection import train_test_split\n",
    "from sklearn.metrics import mean_squared_error\n",
    "import matplotlib.pyplot as plt\n",
    "\n",
    "# Assuming the dataframe_Amazon_Sales_data is already loaded and preprocessed\n",
    "\n",
    "# Define features and target variable\n",
    "features = dataframe_Amazon_Sales_data[['Units Sold', 'Unit Price', 'MA_7', 'MA_30', 'Growth Rate']].dropna()\n",
    "target = dataframe_Amazon_Sales_data.loc[features.index, 'Total Revenue']\n",
    "\n",
    "# Split the data into training and testing sets\n",
    "X_train, X_test, y_train, y_test = train_test_split(features, target, test_size=0.2, random_state=42)\n",
    "\n",
    "# Fit the XGBoost model\n",
    "xgb_model = XGBRegressor()\n",
    "xgb_model.fit(X_train, y_train)\n",
    "\n",
    "# Make predictions\n",
    "predictions = xgb_model.predict(X_test)\n",
    "\n",
    "# Evaluate the model\n",
    "rmse = mean_squared_error(y_test, predictions, squared=False)\n",
    "print(f'RMSE: {rmse}')\n",
    "\n",
    "# Plot actual vs predicted\n",
    "plt.figure(figsize=(14, 7))\n",
    "plt.scatter(y_test, predictions, alpha=0.3)\n",
    "plt.plot([y_test.min(), y_test.max()], [y_test.min(), y_test.max()], 'k--', lw=3)\n",
    "plt.title('Actual vs Predicted Sales')\n",
    "plt.xlabel('Actual Sales')\n",
    "plt.ylabel('Predicted Sales')\n",
    "plt.show()"
   ]
  },
  {
   "cell_type": "markdown",
   "id": "9eb40c7e-959a-422a-8f8b-342f92bdd8ed",
   "metadata": {},
   "source": [
    "#### Seasonal Decomposition of Time Series"
   ]
  },
  {
   "cell_type": "code",
   "execution_count": null,
   "id": "c2b61b4c-db14-4391-b353-9bcb038249aa",
   "metadata": {},
   "outputs": [],
   "source": [
    "import statsmodels.api as sm\n",
    "\n",
    "# Assuming 'Order Date' is the column with the dates\n",
    "# Convert 'Order Date' to datetime\n",
    "dataframe_Amazon_Sales_data['Order Date'] = pd.to_datetime(dataframe_Amazon_Sales_data['Order Date'])\n",
    "\n",
    "# Set 'Order Date' as the index\n",
    "dataframe_Amazon_Sales_data.set_index('Order Date', inplace=True)\n",
    "\n",
    "# Resample the 'Total Revenue' by month and sum the values\n",
    "monthly_revenue = dataframe_Amazon_Sales_data['Total Revenue'].resample('M').sum()\n",
    "\n",
    "# Decompose the time series\n",
    "decomposition = sm.tsa.seasonal_decompose(monthly_revenue, model='additive')\n",
    "fig = decomposition.plot()\n",
    "plt.show()"
   ]
  }
 ],
 "metadata": {
  "kernelspec": {
   "display_name": "Python 3 (ipykernel)",
   "language": "python",
   "name": "python3"
  },
  "language_info": {
   "codemirror_mode": {
    "name": "ipython",
    "version": 3
   },
   "file_extension": ".py",
   "mimetype": "text/x-python",
   "name": "python",
   "nbconvert_exporter": "python",
   "pygments_lexer": "ipython3",
   "version": "3.12.2"
  }
 },
 "nbformat": 4,
 "nbformat_minor": 5
}
